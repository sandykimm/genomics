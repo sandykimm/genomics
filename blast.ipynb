{
 "cells": [
  {
   "cell_type": "markdown",
   "metadata": {},
   "source": [
    "Running BLAST as a Shell Command\n",
    "==============================\n",
    "\n",
    "Use the following shell command to run BLAST as a shell command, outside of Python.  (A shell command in Jupyter always begins with an exclamation point (!), and follows a different syntax than Python commands).  Run the command as usual by clicking on the code box below, then clicking the **Run** button above.  \n",
    "\n",
    "* Note that any command may take some time to finish.  While it is still running, an asterisk will be shown to the left of the code box ``In [*]``, and the circle next to **Python** in the upper-right of the window will be solid.  When it finishes, the asterisk will change to a number e.g. ``In [1]``, and the circle will become hollow. **NOTE**: always wait for your running code to finish before proceeding to any other code.\n",
    "\n",
    "* Note that a shell command consists of a command name followed by a set of *arguments* each preceded by an *option flag* beginning with a dash.  The ``-task blastn`` option tells it to use the blastn variant of BLAST.   As is typical, you can get a helpful list of possible options by running ``blastn -help``.\n",
    "\n",
    "* Note that in some cases you need to specify WHERE a particular resource is stored on the computer's file system.  You do this by specifying its \"path\".  In this case we are keeping most of our files in the `/var/local/C100` directory.\n",
    "\n",
    "* This command tests running BLAST on the FASTA sequence format test file ``in.txt`` in the `/var/local/C100` directory (if you view that file, you'll see it just gives a sequence name on the first line, and a short DNA sequence on the second line).  \n",
    "\n",
    "Run BLAST to search the E. coli genome NC_000913 for this query sequence as follows:"
   ]
  },
  {
   "cell_type": "code",
   "execution_count": 1,
   "metadata": {},
   "outputs": [
    {
     "name": "stdout",
     "output_type": "stream",
     "text": [
      "BLASTN 2.10.0+\r\n",
      "\r\n",
      "\r\n",
      "Reference: Stephen F. Altschul, Thomas L. Madden, Alejandro A.\r\n",
      "Schaffer, Jinghui Zhang, Zheng Zhang, Webb Miller, and David J.\r\n",
      "Lipman (1997), \"Gapped BLAST and PSI-BLAST: a new generation of\r\n",
      "protein database search programs\", Nucleic Acids Res. 25:3389-3402.\r\n",
      "\r\n",
      "\r\n",
      "\r\n",
      "Database: NC_000913.fna\r\n",
      "           1 sequences; 4,639,675 total letters\r\n",
      "\r\n",
      "\r\n",
      "\r\n",
      "Query= myseq\r\n",
      "\r\n",
      "Length=30\r\n",
      "                                                                      Score        E\r\n",
      "Sequences producing significant alignments:                          (Bits)     Value\r\n",
      "\r\n",
      "gi|49175990|ref|NC_000913.2| Escherichia coli str. K-12 substr. M...  55.4       1e-09\r\n",
      "\r\n",
      "\r\n",
      ">gi|49175990|ref|NC_000913.2| Escherichia coli str. K-12 substr. \r\n",
      "MG1655 chromosome, complete genome\r\n",
      "Length=4639675\r\n",
      "\r\n",
      " Score = 55.4 bits (60),  Expect = 1e-09\r\n",
      " Identities = 30/30 (100%), Gaps = 0/30 (0%)\r\n",
      " Strand=Plus/Plus\r\n",
      "\r\n",
      "Query  1    GGACGCAACGGTTCCGACTACTCTGCTGCG  30\r\n",
      "            ||||||||||||||||||||||||||||||\r\n",
      "Sbjct  943  GGACGCAACGGTTCCGACTACTCTGCTGCG  972\r\n",
      "\r\n",
      "\r\n",
      " Score = 30.1 bits (32),  Expect = 0.043\r\n",
      " Identities = 22/26 (85%), Gaps = 0/26 (0%)\r\n",
      " Strand=Plus/Plus\r\n",
      "\r\n",
      "Query  1        GGACGCAACGGTTCCGACTACTCTGC  26\r\n",
      "                || || |||||||||||||| || ||\r\n",
      "Sbjct  4128473  GGGCGTAACGGTTCCGACTATTCCGC  4128498\r\n",
      "\r\n",
      "\r\n",
      " Score = 26.5 bits (28),  Expect = 0.53\r\n",
      " Identities = 14/14 (100%), Gaps = 0/14 (0%)\r\n",
      " Strand=Plus/Plus\r\n",
      "\r\n",
      "Query  1        GGACGCAACGGTTC  14\r\n",
      "                ||||||||||||||\r\n",
      "Sbjct  2550593  GGACGCAACGGTTC  2550606\r\n",
      "\r\n",
      "\r\n",
      " Score = 25.6 bits (27),  Expect = 1.8\r\n",
      " Identities = 15/16 (94%), Gaps = 0/16 (0%)\r\n",
      " Strand=Plus/Minus\r\n",
      "\r\n",
      "Query  14      CCGACTACTCTGCTGC  29\r\n",
      "               || |||||||||||||\r\n",
      "Sbjct  995614  CCTACTACTCTGCTGC  995599\r\n",
      "\r\n",
      "\r\n",
      "\r\n",
      "Lambda      K        H\r\n",
      "   0.634    0.408    0.912 \r\n",
      "\r\n",
      "Gapped\r\n",
      "Lambda      K        H\r\n",
      "   0.625    0.410    0.780 \r\n",
      "\r\n",
      "Effective search space used: 51036216\r\n",
      "\r\n",
      "\r\n",
      "  Database: NC_000913.fna\r\n",
      "    Posted date:  Apr 22, 2020  6:02 PM\r\n",
      "  Number of letters in database: 4,639,675\r\n",
      "  Number of sequences in database:  1\r\n",
      "\r\n",
      "\r\n",
      "\r\n",
      "Matrix: blastn matrix 2 -3\r\n",
      "Gap Penalties: Existence: 5, Extension: 2\r\n"
     ]
    }
   ],
   "source": [
    "!/var/local/C100/ncbi-blast-2.10.0+/bin/blastn -db /var/local/C100/NC_000913.fna -task blastn </var/local/C100/in.txt"
   ]
  },
  {
   "cell_type": "markdown",
   "metadata": {},
   "source": [
    "* The ``-db`` option specifies the sequence database to search;\n",
    "\n",
    "* the ``-task`` option specifies what variant of the BLAST program to run.  Note that there are many variants of BLAST for different kinds of sequence comparisons, e.g. ``blastn`` for nucleotide sequence comparisons, ``blastp`` for protein sequence comparisons.  Here we performed a nucleotide sequence search.\n",
    "\n",
    "* ``<in.txt`` forces the program to read its input (query sequence) from the file ``in.txt``.\n",
    "\n",
    "**QUESTION**: How many\n",
    "different hits did BLAST find?  Based on the expectation\n",
    "(E) values, which of the hits if any appear to be real\n",
    "homologies?  Does percent-identity alone appear to be\n",
    "a reliable indicator of real homology?\n"
   ]
  },
  {
   "cell_type": "markdown",
   "metadata": {},
   "source": [
    "**ANSWER**: The amount of different hits BLAST found was 4. Based on the expectation (E) values, the first hit (e-value of 1e-09) may be real homologies. Percent identity alone is not a reliable indicator of real homology, as sometimes hits do and do not occur simply due to chance."
   ]
  },
  {
   "cell_type": "markdown",
   "metadata": {},
   "source": [
    "Automating BLAST Searches Using Python\n",
    "=========================================\n",
    "\n",
    "For analyses where you need to run BLAST many times, it is important to know how to run the software using automation.  The simplest way to do this is with Python.  Python makes it easy to run programs and process their input / output automatically.  For example, say we wanted to obtain the score and E-value for the top hit from a BLAST search for any nucleotide sequence.  We'll do this using two Python packages ``subprocess`` (for running other programs from Python) and ``re`` (for searching text for so-called \"Regular Expressions\").  Within the same directory, start Python, and then import these packages:"
   ]
  },
  {
   "cell_type": "code",
   "execution_count": 2,
   "metadata": {},
   "outputs": [],
   "source": [
    "import re, subprocess"
   ]
  },
  {
   "cell_type": "markdown",
   "metadata": {},
   "source": [
    "Next we write our BLAST command as a list of strings:"
   ]
  },
  {
   "cell_type": "code",
   "execution_count": 3,
   "metadata": {},
   "outputs": [],
   "source": [
    "cmd = ['/var/local/C100/ncbi-blast-2.10.0+/bin/blastn', '-db', '/var/local/C100/NC_000913.fna', '-task', 'blastn']"
   ]
  },
  {
   "cell_type": "markdown",
   "metadata": {},
   "source": [
    "Note that we didn't have to tell it input and output files.\n",
    "Python provides a way of communcating directly with subprocesses\n",
    "called *pipes*.  We start our subprocess, indicating that both\n",
    "its input and output will use pipes (we could have passed files instead):"
   ]
  },
  {
   "cell_type": "code",
   "execution_count": 4,
   "metadata": {},
   "outputs": [],
   "source": [
    "p = subprocess.Popen(cmd, stdin=subprocess.PIPE, stdout=subprocess.PIPE)"
   ]
  },
  {
   "cell_type": "markdown",
   "metadata": {},
   "source": [
    "Next we just create our FASTA input:"
   ]
  },
  {
   "cell_type": "code",
   "execution_count": 5,
   "metadata": {},
   "outputs": [],
   "source": [
    "seq = 'ggacgcaacggttccgactactctgctgcg'\n",
    "fasta = '>myseq\\n' + seq + '\\n'"
   ]
  },
  {
   "cell_type": "markdown",
   "metadata": {},
   "source": [
    "Note that ``\\n`` is the *newline* character, equivalent\n",
    "to typing a carriage-return.  The FASTA format requires a *sequence name*\n",
    "on the first line, and then the sequence itself starting on the second line.\n",
    "\n",
    "Finally we just read BLAST's output over the pipe:"
   ]
  },
  {
   "cell_type": "code",
   "execution_count": 6,
   "metadata": {},
   "outputs": [],
   "source": [
    "stdout, stderr = p.communicate(bytes(fasta, 'utf8'))\n",
    "blastout = str(stdout, encoding='utf8')"
   ]
  },
  {
   "cell_type": "markdown",
   "metadata": {},
   "source": [
    "Note that when Python communicates with external programs like BLAST, we must specify what character encoding the external program reads and writes its data.  Here we use the standard ``utf8`` encoding.  We also provide conversions to deal with the fact the external program reads and writes ``bytes``, whereas in Python we use ``str`` (a text string) to work with text data.\n",
    "\n",
    "You can verify your results by printing ``blastout``, it will \n",
    "look like your original BLAST results.\n",
    "(``stderr`` reports any error messages from the program; in this\n",
    "case we are just ignoring it)."
   ]
  },
  {
   "cell_type": "code",
   "execution_count": 7,
   "metadata": {},
   "outputs": [
    {
     "name": "stdout",
     "output_type": "stream",
     "text": [
      "BLASTN 2.10.0+\n",
      "\n",
      "\n",
      "Reference: Stephen F. Altschul, Thomas L. Madden, Alejandro A.\n",
      "Schaffer, Jinghui Zhang, Zheng Zhang, Webb Miller, and David J.\n",
      "Lipman (1997), \"Gapped BLAST and PSI-BLAST: a new generation of\n",
      "protein database search programs\", Nucleic Acids Res. 25:3389-3402.\n",
      "\n",
      "\n",
      "\n",
      "Database: NC_000913.fna\n",
      "           1 sequences; 4,639,675 total letters\n",
      "\n",
      "\n",
      "\n",
      "Query= myseq\n",
      "\n",
      "Length=30\n",
      "                                                                      Score        E\n",
      "Sequences producing significant alignments:                          (Bits)     Value\n",
      "\n",
      "gi|49175990|ref|NC_000913.2| Escherichia coli str. K-12 substr. M...  55.4       1e-09\n",
      "\n",
      "\n",
      ">gi|49175990|ref|NC_000913.2| Escherichia coli str. K-12 substr. \n",
      "MG1655 chromosome, complete genome\n",
      "Length=4639675\n",
      "\n",
      " Score = 55.4 bits (60),  Expect = 1e-09\n",
      " Identities = 30/30 (100%), Gaps = 0/30 (0%)\n",
      " Strand=Plus/Plus\n",
      "\n",
      "Query  1    GGACGCAACGGTTCCGACTACTCTGCTGCG  30\n",
      "            ||||||||||||||||||||||||||||||\n",
      "Sbjct  943  GGACGCAACGGTTCCGACTACTCTGCTGCG  972\n",
      "\n",
      "\n",
      " Score = 30.1 bits (32),  Expect = 0.043\n",
      " Identities = 22/26 (85%), Gaps = 0/26 (0%)\n",
      " Strand=Plus/Plus\n",
      "\n",
      "Query  1        GGACGCAACGGTTCCGACTACTCTGC  26\n",
      "                || || |||||||||||||| || ||\n",
      "Sbjct  4128473  GGGCGTAACGGTTCCGACTATTCCGC  4128498\n",
      "\n",
      "\n",
      " Score = 26.5 bits (28),  Expect = 0.53\n",
      " Identities = 14/14 (100%), Gaps = 0/14 (0%)\n",
      " Strand=Plus/Plus\n",
      "\n",
      "Query  1        GGACGCAACGGTTC  14\n",
      "                ||||||||||||||\n",
      "Sbjct  2550593  GGACGCAACGGTTC  2550606\n",
      "\n",
      "\n",
      " Score = 25.6 bits (27),  Expect = 1.8\n",
      " Identities = 15/16 (94%), Gaps = 0/16 (0%)\n",
      " Strand=Plus/Minus\n",
      "\n",
      "Query  14      CCGACTACTCTGCTGC  29\n",
      "               || |||||||||||||\n",
      "Sbjct  995614  CCTACTACTCTGCTGC  995599\n",
      "\n",
      "\n",
      "\n",
      "Lambda      K        H\n",
      "   0.634    0.408    0.912 \n",
      "\n",
      "Gapped\n",
      "Lambda      K        H\n",
      "   0.625    0.410    0.780 \n",
      "\n",
      "Effective search space used: 51036216\n",
      "\n",
      "\n",
      "  Database: NC_000913.fna\n",
      "    Posted date:  Apr 22, 2020  6:02 PM\n",
      "  Number of letters in database: 4,639,675\n",
      "  Number of sequences in database:  1\n",
      "\n",
      "\n",
      "\n",
      "Matrix: blastn matrix 2 -3\n",
      "Gap Penalties: Existence: 5, Extension: 2\n",
      "\n"
     ]
    }
   ],
   "source": [
    "print(blastout)"
   ]
  },
  {
   "cell_type": "markdown",
   "metadata": {},
   "source": [
    "Parsing BLAST output using Regular Expressions\n",
    "=============================================\n",
    "\n",
    "Now we can use *regular expressions* to extract the top score\n",
    "and E-value from the results:"
   ]
  },
  {
   "cell_type": "code",
   "execution_count": 8,
   "metadata": {},
   "outputs": [
    {
     "data": {
      "text/plain": [
       "(55.4, 1e-09)"
      ]
     },
     "execution_count": 8,
     "metadata": {},
     "output_type": "execute_result"
    }
   ],
   "source": [
    "match = re.search(r'Score = (\\S+)', blastout)\n",
    "score = float(match.group(1))\n",
    "match = re.search(r'Expect =\\s+(\\S+)', blastout)\n",
    "e = float(match.group(1).strip())\n",
    "score, e"
   ]
  },
  {
   "cell_type": "markdown",
   "metadata": {},
   "source": [
    "Note: prefixing the letter ``r`` before a quoted string in Python\n",
    "(as shown above) preserves backslashes ``\\`` in the string exactly as\n",
    "written, which is quite convenient for writing regular-expression strings.\n",
    "\n",
    "Regular expressions are a powerful way to \n",
    "search a text using convenient \"wildcards\"; \n",
    "\n",
    "* for example here we used ``\\s``, which matches any \"whitespace\" character (i.e. space, tab, carriage return etc.);\n",
    "\n",
    "* ``\\S``, which matches any *non* whitespace character (i.e. a letter, number, punctuation mark etc.);\n",
    "\n",
    "* ``+`` means \"one or more of the preceeding character type\". Thus ``\\S+`` will match a string of non-whitespace characters.\n",
    "\n",
    "* The function ``re.search(regexp, text)`` searches the ``text`` for the first match to ``regexp``, and returns a *match object* containing the result.\n",
    "\n",
    "* We then use this to extract the value we want, using the ``group()`` method: groups are marked in the regular expression with parentheses; ``group(1)`` returns the first group, ``group(2)`` the next group and so on.\n",
    "\n",
    "Defining a Python function to Run BLAST\n",
    "=========================================\n",
    "\n",
    "In Python, we use ``def`` to define a named function, which receives *argument variables* (in parentheses) and *returns* output values.  The actual work of the function is done by the *code block* that follows it.  Note that in Python a *code block* always begins with a statement that ends in a colon (:) and is indented (usually with four spaces) as shown below.  In this case, our code block simply copies the steps we used above to run BLAST from Python:"
   ]
  },
  {
   "cell_type": "code",
   "execution_count": 9,
   "metadata": {},
   "outputs": [],
   "source": [
    "def run_blast(seq):\n",
    "    cmd = ['/var/local/C100/ncbi-blast-2.10.0+/bin/blastn', '-db', '/var/local/C100/NC_000913.fna', '-task', 'blastn', '-evalue', '1000']\n",
    "    p = subprocess.Popen(cmd, stdin=subprocess.PIPE, stdout=subprocess.PIPE)\n",
    "    fasta = '>myseq\\n' + seq + '\\n'\n",
    "    stdout, stderr = p.communicate(bytes(fasta, 'utf8'))\n",
    "    blastout = str(stdout, encoding='utf8')\n",
    "    return blastout"
   ]
  },
  {
   "cell_type": "markdown",
   "metadata": {},
   "source": [
    "Now we can run BLAST by simply calling our function:"
   ]
  },
  {
   "cell_type": "code",
   "execution_count": 10,
   "metadata": {},
   "outputs": [],
   "source": [
    "blastout = run_blast('ggacgcaacggttccgactactctgctgcg')"
   ]
  },
  {
   "cell_type": "markdown",
   "metadata": {},
   "source": [
    "Defining a Python function to get the best BLAST score\n",
    "=================================================\n",
    "\n",
    "Based on your commands above, **write code for a short function**\n",
    "``get_top_score(report)`` that takes a BLAST report string\n",
    "``report`` and returns the floating point values ``e, score``\n",
    "of the top hit:"
   ]
  },
  {
   "cell_type": "code",
   "execution_count": 11,
   "metadata": {},
   "outputs": [],
   "source": [
    "def get_top_score(report):\n",
    "    match = re.search(r'Score = (\\S+)', report)\n",
    "    score = float(match.group(1))\n",
    "    match = re.search(r'Expect =\\s+(\\S+)', report)\n",
    "    e = float(match.group(1).strip())\n",
    "    return e, score"
   ]
  },
  {
   "cell_type": "markdown",
   "metadata": {},
   "source": [
    "Then test your code as follows:"
   ]
  },
  {
   "cell_type": "code",
   "execution_count": 12,
   "metadata": {},
   "outputs": [
    {
     "data": {
      "text/plain": [
       "(1e-09, 55.4)"
      ]
     },
     "execution_count": 12,
     "metadata": {},
     "output_type": "execute_result"
    }
   ],
   "source": [
    "e, score = get_top_score(blastout)\n",
    "e, score"
   ]
  },
  {
   "cell_type": "markdown",
   "metadata": {},
   "source": [
    "**QUESTION**: Write a piece of code that uses your two functions above to \n",
    "get the top hit scores for your original query string\n",
    "lacking its last 1, 2, 3, 4, or 5 nucleotides.\n",
    "\n",
    "**ANSWER**: Code snippet below."
   ]
  },
  {
   "cell_type": "code",
   "execution_count": 13,
   "metadata": {},
   "outputs": [
    {
     "name": "stdout",
     "output_type": "stream",
     "text": [
      "3e-09 53.6\n",
      "1e-08 51.8\n",
      "3e-08 50.0\n",
      "1e-07 48.2\n",
      "4e-07 46.4\n"
     ]
    }
   ],
   "source": [
    "blastout = run_blast('ggacgcaacggttccgactactctgctgc') # lacking last 1 nucleotide\n",
    "e, score = get_top_score(blastout)\n",
    "print(e, score)\n",
    "blastout = run_blast('ggacgcaacggttccgactactctgctg') # lacking last 2 nucleotides\n",
    "e, score = get_top_score(blastout)\n",
    "print(e, score)\n",
    "blastout = run_blast('ggacgcaacggttccgactactctgct') # lacking last 3 nucleotides\n",
    "e, score = get_top_score(blastout)\n",
    "print(e, score)\n",
    "blastout = run_blast('ggacgcaacggttccgactactctgc') # lacking last 4 nucleotides\n",
    "e, score = get_top_score(blastout)\n",
    "print(e, score)\n",
    "blastout = run_blast('ggacgcaacggttccgactactctg') # lacking last 5 nucleotides\n",
    "e, score = get_top_score(blastout)\n",
    "print(e, score)"
   ]
  },
  {
   "cell_type": "markdown",
   "metadata": {},
   "source": [
    "Computing an Empirical Score Distribution\n",
    "==========================================\n",
    "\n",
    "BLAST computes its E-values based on a mathematical model\n",
    "that approximates the true probability.  One general (but\n",
    "inefficient) way to directly compute these probabilities\n",
    "is simply to sample the distribution randomly and extrapolate\n",
    "from the observed probabilities.  For example, the null hypothesis\n",
    "is: what's the probability of observing this match score\n",
    "by random chance?  We can directly sample this random\n",
    "distribution by running the same BLAST search with \n",
    "randomly *shuffled* versions of our original query sequence.\n",
    "\n",
    "This is easy using Python's ``random`` package, which provides\n",
    "random number generators and other convenient functions for\n",
    "random sampling.  Specifically, the ``random.shuffle()`` function\n",
    "will shuffle any list of items.  All we have to do is convert\n",
    "our sequence string to a list, and shuffle it.  Try out the following code:"
   ]
  },
  {
   "cell_type": "code",
   "execution_count": 14,
   "metadata": {},
   "outputs": [
    {
     "name": "stdout",
     "output_type": "stream",
     "text": [
      "['g', 'g', 'a', 'c', 'g', 'c', 'a', 'a', 'c', 'g', 'g', 't', 't', 'c', 'c', 'g', 'a', 'c', 't', 'a', 'c', 't', 'c', 't', 'g', 'c', 't', 'g', 'c', 'g']\n",
      "['g', 'c', 'a', 'g', 'c', 'a', 'g', 'a', 't', 'a', 't', 'g', 'c', 'c', 't', 'c', 'g', 'a', 'g', 'c', 't', 'c', 'g', 't', 'g', 'c', 't', 'c', 'c', 'g']\n"
     ]
    }
   ],
   "source": [
    "import random\n",
    "seq = 'ggacgcaacggttccgactactctgctgcg'\n",
    "l = list(seq)\n",
    "print(l)\n",
    "random.shuffle(l)\n",
    "print(l)"
   ]
  },
  {
   "cell_type": "markdown",
   "metadata": {},
   "source": [
    "Python provides an easy way to convert a list back into a string;\n",
    "given any string ``s``, ``s.join(l)`` will concatenate the\n",
    "items in the list, each separated by the string ``s``.  For\n",
    "example, try:"
   ]
  },
  {
   "cell_type": "code",
   "execution_count": 15,
   "metadata": {},
   "outputs": [
    {
     "name": "stdout",
     "output_type": "stream",
     "text": [
      "g,c,a,g,c,a,g,a,t,a,t,g,c,c,t,c,g,a,g,c,t,c,g,t,g,c,t,c,c,g\n",
      "gcagcagatatgcctcgagctcgtgctccg\n"
     ]
    }
   ],
   "source": [
    "print(','.join(l))\n",
    "print(''.join(l))"
   ]
  },
  {
   "cell_type": "markdown",
   "metadata": {},
   "source": [
    "To ensure that BLAST will report a hit even if its e-value is\n",
    "bad, note that we added the following options to the BLAST command ``cmd``\n",
    "in our ``run_blast()`` function: ``'-evalue', '1000'``.\n",
    "\n",
    "Now you can get the top BLAST score of the shuffled sequence as\n",
    "follows:"
   ]
  },
  {
   "cell_type": "code",
   "execution_count": 16,
   "metadata": {},
   "outputs": [
    {
     "data": {
      "text/plain": [
       "(0.53, 26.5)"
      ]
     },
     "execution_count": 16,
     "metadata": {},
     "output_type": "execute_result"
    }
   ],
   "source": [
    "shuffled = ''.join(l)\n",
    "report = run_blast(shuffled)\n",
    "e, score = get_top_score(report)\n",
    "e, score"
   ]
  },
  {
   "cell_type": "markdown",
   "metadata": {},
   "source": [
    "Based on this, **write a function**\n",
    "``get_shuffled_scores(seq, n)`` that takes a \n",
    "sequence ``seq``, and runs BLAST ``n`` times on randomly\n",
    "shuffled versions of ``seq``.  It should return a list\n",
    "of the results of ``get_top_score()`` from each BLAST run."
   ]
  },
  {
   "cell_type": "code",
   "execution_count": 19,
   "metadata": {},
   "outputs": [],
   "source": [
    "def get_shuffled_scores(seq, n):\n",
    "    results = []\n",
    "    l = list(seq)\n",
    "    for i in range(n):\n",
    "        random.shuffle(l)\n",
    "        shuffled = ''.join(l)\n",
    "        report = run_blast(shuffled)\n",
    "        results.append(get_top_score(report))  \n",
    "    return results"
   ]
  },
  {
   "cell_type": "markdown",
   "metadata": {},
   "source": [
    "Use your function to get scores from 500 shuffled BLAST runs.  Note that this will take several minutes."
   ]
  },
  {
   "cell_type": "code",
   "execution_count": 20,
   "metadata": {},
   "outputs": [
    {
     "name": "stdout",
     "output_type": "stream",
     "text": [
      "[(0.001, 35.6), (0.004, 33.7), (0.004, 34.6), (0.012, 31.9), (0.012, 31.9), (0.012, 31.9), (0.012, 31.9), (0.012, 31.9), (0.012, 31.9), (0.012, 31.9), (0.012, 32.8), (0.043, 30.1), (0.043, 30.1), (0.043, 30.1), (0.043, 30.1), (0.043, 30.1), (0.043, 30.1), (0.043, 30.1), (0.043, 30.1), (0.043, 30.1), (0.043, 30.1), (0.043, 30.1), (0.043, 30.1), (0.043, 30.1), (0.043, 31.0), (0.043, 31.0), (0.043, 31.0), (0.15, 28.3), (0.15, 28.3), (0.15, 28.3), (0.15, 28.3), (0.15, 28.3), (0.15, 28.3), (0.15, 28.3), (0.15, 28.3), (0.15, 28.3), (0.15, 28.3), (0.15, 28.3), (0.15, 28.3), (0.15, 28.3), (0.15, 28.3), (0.15, 28.3), (0.15, 28.3), (0.15, 28.3), (0.15, 28.3), (0.15, 28.3), (0.15, 28.3), (0.15, 28.3), (0.15, 28.3), (0.15, 28.3), (0.15, 28.3), (0.15, 28.3), (0.15, 28.3), (0.15, 28.3), (0.15, 28.3), (0.15, 28.3), (0.15, 28.3), (0.15, 28.3), (0.15, 28.3), (0.15, 28.3), (0.15, 28.3), (0.15, 28.3), (0.15, 28.3), (0.15, 28.3), (0.15, 28.3), (0.15, 28.3), (0.15, 28.3), (0.15, 28.3), (0.15, 28.3), (0.15, 28.3), (0.15, 29.2), (0.15, 29.2), (0.15, 29.2), (0.15, 29.2), (0.15, 29.2), (0.15, 29.2), (0.15, 29.2), (0.15, 29.2), (0.15, 29.2), (0.15, 29.2), (0.15, 29.2), (0.15, 29.2), (0.15, 29.2), (0.15, 29.2), (0.53, 26.5), (0.53, 26.5), (0.53, 26.5), (0.53, 26.5), (0.53, 26.5), (0.53, 26.5), (0.53, 26.5), (0.53, 26.5), (0.53, 26.5), (0.53, 26.5), (0.53, 26.5), (0.53, 26.5), (0.53, 26.5), (0.53, 26.5), (0.53, 26.5), (0.53, 26.5), (0.53, 26.5), (0.53, 26.5), (0.53, 26.5), (0.53, 26.5), (0.53, 26.5), (0.53, 26.5), (0.53, 26.5), (0.53, 26.5), (0.53, 26.5), (0.53, 26.5), (0.53, 26.5), (0.53, 26.5), (0.53, 26.5), (0.53, 26.5), (0.53, 26.5), (0.53, 26.5), (0.53, 26.5), (0.53, 26.5), (0.53, 26.5), (0.53, 26.5), (0.53, 26.5), (0.53, 26.5), (0.53, 26.5), (0.53, 26.5), (0.53, 26.5), (0.53, 26.5), (0.53, 26.5), (0.53, 26.5), (0.53, 26.5), (0.53, 26.5), (0.53, 26.5), (0.53, 26.5), (0.53, 26.5), (0.53, 26.5), (0.53, 26.5), (0.53, 26.5), (0.53, 26.5), (0.53, 26.5), (0.53, 26.5), (0.53, 26.5), (0.53, 26.5), (0.53, 26.5), (0.53, 26.5), (0.53, 26.5), (0.53, 26.5), (0.53, 26.5), (0.53, 26.5), (0.53, 26.5), (0.53, 26.5), (0.53, 26.5), (0.53, 26.5), (0.53, 26.5), (0.53, 26.5), (0.53, 26.5), (0.53, 26.5), (0.53, 26.5), (0.53, 26.5), (0.53, 26.5), (0.53, 26.5), (0.53, 26.5), (0.53, 26.5), (0.53, 26.5), (0.53, 26.5), (0.53, 26.5), (0.53, 26.5), (0.53, 26.5), (0.53, 26.5), (0.53, 26.5), (0.53, 26.5), (0.53, 27.4), (0.53, 27.4), (0.53, 27.4), (0.53, 27.4), (0.53, 27.4), (0.53, 27.4), (0.53, 27.4), (0.53, 27.4), (0.53, 27.4), (0.53, 27.4), (0.53, 27.4), (0.53, 27.4), (0.53, 27.4), (0.53, 27.4), (0.53, 27.4), (0.53, 27.4), (0.53, 27.4), (0.53, 27.4), (0.53, 27.4), (0.53, 27.4), (0.53, 27.4), (0.53, 27.4), (0.53, 27.4), (0.53, 27.4), (0.53, 27.4), (0.53, 27.4), (0.53, 27.4), (0.53, 27.4), (0.53, 27.4), (0.53, 27.4), (0.53, 27.4), (0.53, 27.4), (0.53, 27.4), (0.53, 27.4), (0.53, 27.4), (0.53, 27.4), (0.53, 27.4), (0.53, 27.4), (0.53, 27.4), (1.8, 24.7), (1.8, 24.7), (1.8, 24.7), (1.8, 24.7), (1.8, 24.7), (1.8, 24.7), (1.8, 24.7), (1.8, 24.7), (1.8, 24.7), (1.8, 24.7), (1.8, 24.7), (1.8, 24.7), (1.8, 24.7), (1.8, 24.7), (1.8, 24.7), (1.8, 24.7), (1.8, 24.7), (1.8, 24.7), (1.8, 24.7), (1.8, 24.7), (1.8, 24.7), (1.8, 24.7), (1.8, 24.7), (1.8, 24.7), (1.8, 24.7), (1.8, 24.7), (1.8, 24.7), (1.8, 24.7), (1.8, 24.7), (1.8, 24.7), (1.8, 24.7), (1.8, 24.7), (1.8, 24.7), (1.8, 24.7), (1.8, 24.7), (1.8, 24.7), (1.8, 24.7), (1.8, 24.7), (1.8, 24.7), (1.8, 24.7), (1.8, 24.7), (1.8, 24.7), (1.8, 24.7), (1.8, 24.7), (1.8, 24.7), (1.8, 24.7), (1.8, 24.7), (1.8, 24.7), (1.8, 24.7), (1.8, 24.7), (1.8, 24.7), (1.8, 24.7), (1.8, 24.7), (1.8, 24.7), (1.8, 24.7), (1.8, 24.7), (1.8, 24.7), (1.8, 24.7), (1.8, 24.7), (1.8, 24.7), (1.8, 24.7), (1.8, 24.7), (1.8, 24.7), (1.8, 24.7), (1.8, 24.7), (1.8, 24.7), (1.8, 24.7), (1.8, 24.7), (1.8, 24.7), (1.8, 24.7), (1.8, 24.7), (1.8, 24.7), (1.8, 24.7), (1.8, 24.7), (1.8, 24.7), (1.8, 24.7), (1.8, 24.7), (1.8, 24.7), (1.8, 24.7), (1.8, 24.7), (1.8, 24.7), (1.8, 24.7), (1.8, 24.7), (1.8, 24.7), (1.8, 24.7), (1.8, 24.7), (1.8, 24.7), (1.8, 24.7), (1.8, 24.7), (1.8, 24.7), (1.8, 24.7), (1.8, 24.7), (1.8, 24.7), (1.8, 24.7), (1.8, 24.7), (1.8, 24.7), (1.8, 24.7), (1.8, 24.7), (1.8, 24.7), (1.8, 24.7), (1.8, 24.7), (1.8, 24.7), (1.8, 24.7), (1.8, 24.7), (1.8, 24.7), (1.8, 24.7), (1.8, 24.7), (1.8, 24.7), (1.8, 24.7), (1.8, 24.7), (1.8, 24.7), (1.8, 24.7), (1.8, 24.7), (1.8, 24.7), (1.8, 24.7), (1.8, 24.7), (1.8, 24.7), (1.8, 24.7), (1.8, 24.7), (1.8, 24.7), (1.8, 24.7), (1.8, 24.7), (1.8, 24.7), (1.8, 24.7), (1.8, 24.7), (1.8, 24.7), (1.8, 25.6), (1.8, 25.6), (1.8, 25.6), (1.8, 25.6), (1.8, 25.6), (1.8, 25.6), (1.8, 25.6), (1.8, 25.6), (1.8, 25.6), (1.8, 25.6), (1.8, 25.6), (1.8, 25.6), (1.8, 25.6), (1.8, 25.6), (1.8, 25.6), (1.8, 25.6), (1.8, 25.6), (1.8, 25.6), (1.8, 25.6), (1.8, 25.6), (1.8, 25.6), (1.8, 25.6), (1.8, 25.6), (1.8, 25.6), (1.8, 25.6), (1.8, 25.6), (1.8, 25.6), (1.8, 25.6), (1.8, 25.6), (1.8, 25.6), (1.8, 25.6), (1.8, 25.6), (1.8, 25.6), (1.8, 25.6), (1.8, 25.6), (1.8, 25.6), (1.8, 25.6), (1.8, 25.6), (1.8, 25.6), (1.8, 25.6), (1.8, 25.6), (1.8, 25.6), (1.8, 25.6), (1.8, 25.6), (1.8, 25.6), (1.8, 25.6), (1.8, 25.6), (1.8, 25.6), (1.8, 25.6), (1.8, 25.6), (1.8, 25.6), (1.8, 25.6), (1.8, 25.6), (1.8, 25.6), (1.8, 25.6), (1.8, 25.6), (1.8, 25.6), (1.8, 25.6), (1.8, 25.6), (1.8, 25.6), (1.8, 25.6), (6.4, 22.9), (6.4, 22.9), (6.4, 22.9), (6.4, 22.9), (6.4, 22.9), (6.4, 22.9), (6.4, 22.9), (6.4, 22.9), (6.4, 22.9), (6.4, 22.9), (6.4, 22.9), (6.4, 22.9), (6.4, 22.9), (6.4, 22.9), (6.4, 22.9), (6.4, 22.9), (6.4, 22.9), (6.4, 22.9), (6.4, 22.9), (6.4, 22.9), (6.4, 22.9), (6.4, 22.9), (6.4, 22.9), (6.4, 22.9), (6.4, 22.9), (6.4, 22.9), (6.4, 22.9), (6.4, 22.9), (6.4, 22.9), (6.4, 22.9), (6.4, 22.9), (6.4, 22.9), (6.4, 22.9), (6.4, 22.9), (6.4, 22.9), (6.4, 22.9), (6.4, 22.9), (6.4, 22.9), (6.4, 22.9), (6.4, 22.9), (6.4, 22.9), (6.4, 22.9), (6.4, 22.9), (6.4, 22.9), (6.4, 22.9), (6.4, 22.9), (6.4, 22.9), (6.4, 22.9), (6.4, 22.9), (6.4, 22.9), (6.4, 22.9), (6.4, 23.8), (6.4, 23.8), (6.4, 23.8), (6.4, 23.8), (6.4, 23.8), (6.4, 23.8), (6.4, 23.8), (6.4, 23.8), (6.4, 23.8), (6.4, 23.8), (6.4, 23.8), (6.4, 23.8), (6.4, 23.8), (6.4, 23.8), (6.4, 23.8), (6.4, 23.8), (6.4, 23.8), (6.4, 23.8), (6.4, 23.8), (6.4, 23.8), (6.4, 23.8), (6.4, 23.8), (6.4, 23.8), (6.4, 23.8), (6.4, 23.8), (6.4, 23.8), (6.4, 23.8), (6.4, 23.8), (6.4, 23.8), (6.4, 23.8), (6.4, 23.8), (6.4, 23.8), (6.4, 23.8), (6.4, 23.8), (6.4, 23.8), (6.4, 23.8), (6.4, 23.8), (6.4, 23.8), (6.4, 23.8), (6.4, 23.8), (6.4, 23.8), (6.4, 23.8), (6.4, 23.8), (22.0, 21.1), (22.0, 21.1), (22.0, 21.1), (22.0, 21.1), (22.0, 21.1), (22.0, 21.1), (22.0, 21.1), (22.0, 21.1), (22.0, 21.1), (22.0, 21.1), (22.0, 22.0)]\n"
     ]
    }
   ],
   "source": [
    "results = get_shuffled_scores(seq, 500) # this will take a few minutes, so wait till it's done\n",
    "results.sort()\n",
    "print(results)"
   ]
  },
  {
   "cell_type": "markdown",
   "metadata": {},
   "source": [
    "**QUESTION**: What is the top score and associated e-value?  (hint: if your\n",
    "list of scores is called ``scores``, use ``scores.sort()``\n",
    "to sort them in order from best (smallest e-value) to worst\n",
    "(largest e-value))."
   ]
  },
  {
   "cell_type": "markdown",
   "metadata": {},
   "source": [
    "**ANSWER**: The top score and associated e-value are 35.6 and 0.001, respectively."
   ]
  },
  {
   "cell_type": "markdown",
   "metadata": {},
   "source": [
    "Comparing BLAST e-values vs. the Empirical Distribution\n",
    "===================================================\n",
    "\n",
    "Let's assess how accurate BLAST's e-values are compared\n",
    "with the actual probabilities observed in your random sample.\n",
    "Specifically, we sort the e-values \n",
    "in order from best (smallest e-value) to worst\n",
    "(largest e-value), and then plot them against their \n",
    "percentile rank; ideally they should match (falling\n",
    "on the diagonal line y=x.  Because of the large range of\n",
    "values, it is best to use a log-log plot, as in the following code.\n",
    "\n",
    "**QUESTION**: Based on your graph, evaluate how accurate the BLAST e-value\n",
    "approximation is."
   ]
  },
  {
   "cell_type": "markdown",
   "metadata": {},
   "source": [
    "**ANSWER**: The BLAST e-value approximation is not really accurate; it follows the overall trend of y=x, but the actual points that are shared between the e-values and actual probabilities are sparse."
   ]
  },
  {
   "cell_type": "code",
   "execution_count": 23,
   "metadata": {},
   "outputs": [
    {
     "data": {
      "text/plain": [
       "(0.0006065671214183755, 1)"
      ]
     },
     "execution_count": 23,
     "metadata": {},
     "output_type": "execute_result"
    },
    {
     "data": {
      "image/png": "[encoded data removed]",
      "text/plain": [
       "<Figure size 1440x1440 with 1 Axes>"
      ]
     },
     "metadata": {
      "needs_background": "light"
     },
     "output_type": "display_data"
    }
   ],
   "source": [
    "results.sort()\n",
    "evals = [t[0] for t in results]\n",
    "n = len(results)\n",
    "ranks = [float(i + 1) / n for i in range(n)]\n",
    "\n",
    "from matplotlib import pyplot\n",
    "%matplotlib inline\n",
    "pyplot.rcParams[\"figure.figsize\"] = 20, 20\n",
    "pyplot.rcParams.update({'font.size': 22}) # increase font size to be readable!\n",
    "pyplot.loglog(evals, ranks)\n",
    "pyplot.loglog((0.001, 1), (0.001,1)) # draw diagonal y=x line\n",
    "pyplot.xlabel('BLAST E-value')\n",
    "pyplot.ylabel('Actual percentile-rank')\n",
    "pyplot.xlim(xmax=1)"
   ]
  },
  {
   "cell_type": "markdown",
   "metadata": {},
   "source": [
    "### Creating your own estimator of the E-value\n",
    "\n",
    "BLAST refers to its alignment scores as \"bitscores\"; they are just the standard log-odds score that we've discussed in class.  One consequence of this log-odds scoring is that there should be a linear relationship between the bitscore and the log of the p-value (and hence also of the e-value, after applying the Bonferroni correction).  We can visualize this linear relationship by graphing the bitscore vs. the empirical p-value on a log-scale.\n",
    "\n",
    "Extract the BLAST bit-scores from the sorted ``scores`` list,\n",
    "and use ``pyplot.semilogy(bitscores, ranks)`` to plot\n",
    "them vs. the percentile-ranks (with only the latter on a log\n",
    "scale).  \n",
    "\n",
    "**QUESTION**: Extrapolate your observed plot out to the bit-score\n",
    "observed for your original query sequence (i.e. 55): what would its\n",
    "p-value (percentile rank) be?  How does that compare with\n",
    "BLAST's reported e-value for your original sequence?"
   ]
  },
  {
   "cell_type": "markdown",
   "metadata": {},
   "source": [
    "**ANSWER**: The p-value for the original query sequence 55 looks like it would be somewhere around 1e-7, extrapolating the current trend. This is about 1e-2 off with BLAST's reported e-value for the original sequence, 1e-9."
   ]
  },
  {
   "cell_type": "code",
   "execution_count": 25,
   "metadata": {},
   "outputs": [
    {
     "data": {
      "text/plain": [
       "(1e-11, 1.3644213303214185)"
      ]
     },
     "execution_count": 25,
     "metadata": {},
     "output_type": "execute_result"
    },
    {
     "data": {
      "image/png": "[encoded data removed]",
      "text/plain": [
       "<Figure size 1440x1440 with 1 Axes>"
      ]
     },
     "metadata": {
      "needs_background": "light"
     },
     "output_type": "display_data"
    }
   ],
   "source": [
    "bitscores = [t[1] for t in results]\n",
    "bitscores.sort(reverse=True) # biggest bitscore corresponds to smallest rank\n",
    "pyplot.semilogy(bitscores, ranks) # plot Y on log-scale\n",
    "pyplot.xlabel('BLAST Score')\n",
    "pyplot.ylabel('Actual percentile-rank')\n",
    "pyplot.xlim(xmax=55) # extend x-axis to a bitscore of 55\n",
    "pyplot.ylim(ymin=1e-11) # extend y-axis down to p-value of 1e-11"
   ]
  },
  {
   "cell_type": "code",
   "execution_count": null,
   "metadata": {},
   "outputs": [],
   "source": []
  }
 ],
 "metadata": {
  "kernelspec": {
   "display_name": "Python 3",
   "language": "python",
   "name": "python3"
  },
  "language_info": {
   "codemirror_mode": {
    "name": "ipython",
    "version": 3
   },
   "file_extension": ".py",
   "mimetype": "text/x-python",
   "name": "python",
   "nbconvert_exporter": "python",
   "pygments_lexer": "ipython3",
   "version": "3.7.1"
  }
 },
 "nbformat": 4,
 "nbformat_minor": 2
}
