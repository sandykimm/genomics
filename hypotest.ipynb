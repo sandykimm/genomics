{
 "cells": [
  {
   "cell_type": "markdown",
   "metadata": {
    "collapsed": true
   },
   "source": [
    "Modeling Mutagenesis of a Gene\n",
    "================================\n",
    "\n",
    "When mutations occur in a genome, they can happen at any point in the genome, \n",
    "typically at uniform (constant) density, i.e. any point in the genome is equally\n",
    "likely to be mutated as any other point.  One simple model of this probability\n",
    "distribution is called the **Poisson Distribution**: given the density $\\mu$\n",
    "of the number of events occurring on *average* in an interval,\n",
    "it predicts the probability that exactly *k* events will occur in that interval."
   ]
  },
  {
   "cell_type": "markdown",
   "metadata": {},
   "source": [
    "Getting started with Python\n",
    "============================\n",
    "\n",
    "Try out the following to learn some basic commands in Python:\n",
    "\n",
    "- you can see tutorials and look up whatever information you need about Python at https://docs.python.org).\n",
    "- to run the code in a given cell, click the code cell to select it, then click the **Run** button above\n",
    "\n",
    "We'll work with the following tools in this project:\n",
    "\n",
    "- `scipy.stats`: statistical models such as the Poisson\n",
    "- `matplotlib.pyplot`: a great tool for graphing data in both simple and sophisticated ways\n",
    "- `json`: for reading and writing the standard JSON data file format"
   ]
  },
  {
   "cell_type": "code",
   "execution_count": 202,
   "metadata": {},
   "outputs": [],
   "source": [
    "import scipy.stats\n",
    "from matplotlib import pyplot\n",
    "# the following line tells Jupyter to automatically display any graph generated in a cell by matplotlib\n",
    "%matplotlib inline\n",
    "import json"
   ]
  },
  {
   "cell_type": "markdown",
   "metadata": {},
   "source": [
    "How to Set a Variable Value\n",
    "===============================\n",
    "\n",
    "In Python we assign a value to a variable as follows:"
   ]
  },
  {
   "cell_type": "code",
   "execution_count": 203,
   "metadata": {},
   "outputs": [],
   "source": [
    "mu = 10 # set the expected number of mutations per gene to 10"
   ]
  },
  {
   "cell_type": "markdown",
   "metadata": {},
   "source": [
    "How to View a Variable's Value\n",
    "===============================\n",
    "\n",
    "As an even easier alternative to `print()`, you can simply enter the name of the variable whose value you want to view on the last line of a Jupyter cell:"
   ]
  },
  {
   "cell_type": "code",
   "execution_count": 204,
   "metadata": {},
   "outputs": [
    {
     "data": {
      "text/plain": [
       "10"
      ]
     },
     "execution_count": 204,
     "metadata": {},
     "output_type": "execute_result"
    }
   ],
   "source": [
    "mu"
   ]
  },
  {
   "cell_type": "markdown",
   "metadata": {},
   "source": [
    "Creating a Poisson Distribution Model\n",
    "===========================================\n",
    "\n",
    "Let's construct a probability model for predicting the number of mutations\n",
    "that will hit a gene in a mutagenesis experiment with a mutagenesis\n",
    "density of $\\mu=10$ mutations / gene:"
   ]
  },
  {
   "cell_type": "code",
   "execution_count": 205,
   "metadata": {},
   "outputs": [],
   "source": [
    "model = scipy.stats.poisson(mu)"
   ]
  },
  {
   "cell_type": "markdown",
   "metadata": {},
   "source": [
    "How to Get a List of What You Can Do with a Variable\n",
    "=================================================\n",
    "\n",
    "Python also provides a ``dir()`` function to see a \"directory\" of the functions\n",
    "and attributes that an object contains, e.g.:"
   ]
  },
  {
   "cell_type": "code",
   "execution_count": 206,
   "metadata": {},
   "outputs": [],
   "source": [
    "#dir(model)"
   ]
  },
  {
   "cell_type": "markdown",
   "metadata": {},
   "source": [
    "Note several items in this list that we will use in this project: \n",
    "\n",
    "* ``model.rvs()``: draw a sample of random values from this model;\n",
    "* ``model.pmf(k)``: calculate the probability of getting exactly *k* mutations;\n",
    "* ``model.cdf(k)``: calculate the probability of getting *k* or fewer mutations;\n",
    "* ``model.sf(k)``: calculate the probability of getting more than *k* mutations.\n",
    "\n",
    "For example, to draw a random number of mutations from this model, just type:"
   ]
  },
  {
   "cell_type": "code",
   "execution_count": 207,
   "metadata": {},
   "outputs": [
    {
     "data": {
      "text/plain": [
       "7"
      ]
     },
     "execution_count": 207,
     "metadata": {},
     "output_type": "execute_result"
    }
   ],
   "source": [
    "model.rvs() # if no sample size specified, just return a single value"
   ]
  },
  {
   "cell_type": "markdown",
   "metadata": {},
   "source": [
    "You can tell it to generate a sample of 100 random draws:"
   ]
  },
  {
   "cell_type": "code",
   "execution_count": 208,
   "metadata": {},
   "outputs": [
    {
     "data": {
      "text/plain": [
       "array([ 9,  6, 11, 10,  8, 13,  9, 12,  8, 18, 17,  8, 14, 14, 16, 12, 17,\n",
       "       12, 16, 10,  6,  9,  7, 18,  9,  5,  7,  7,  8,  9,  8, 17, 12, 12,\n",
       "        9,  4,  9, 11,  9,  8, 13,  7,  8, 12, 11, 11,  9,  9,  7,  9,  9,\n",
       "        7,  9,  6, 13,  8, 12,  4,  5, 15, 10,  7,  7, 16, 13, 10, 15, 10,\n",
       "       15,  9,  9, 13, 12, 11,  8,  7, 11,  9,  9,  7, 17, 14, 16,  8,  6,\n",
       "       11, 12, 11,  8, 13, 10,  7, 16,  9, 10,  6, 15,  7,  9, 11])"
      ]
     },
     "execution_count": 208,
     "metadata": {},
     "output_type": "execute_result"
    }
   ],
   "source": [
    "model.rvs(100)"
   ]
  },
  {
   "cell_type": "markdown",
   "metadata": {},
   "source": [
    "As you can see, while the *average* number of hits is 10, on any given draw the\n",
    "actual number of mutations may not be exactly 10.  We can also tell Python to \n",
    "calculate the average from an observed sample, using Python's `sum()` function:"
   ]
  },
  {
   "cell_type": "code",
   "execution_count": 209,
   "metadata": {},
   "outputs": [
    {
     "data": {
      "text/plain": [
       "10.23"
      ]
     },
     "execution_count": 209,
     "metadata": {},
     "output_type": "execute_result"
    }
   ],
   "source": [
    "sum(model.rvs(100)) / 100"
   ]
  },
  {
   "cell_type": "markdown",
   "metadata": {},
   "source": [
    "How to Graph Data in Python\n",
    "===============================\n",
    "\n",
    "One basic way to look at this distribution is to graph the probability of\n",
    "the number of mutations *k*, i.e. to plot $p(k|\\mu=10)$.\n",
    "This is easy to do using the ``matplotlib``\n",
    "package (for further tutorials and documentation on matplotlib's\n",
    "many excellent capabilities,\n",
    "just Google it)."
   ]
  },
  {
   "cell_type": "markdown",
   "metadata": {},
   "source": [
    "Let's construct a list of $X$ values for which to make\n",
    "our graph.  Let's try X=0 to X=20, using Python's `range()` function:"
   ]
  },
  {
   "cell_type": "code",
   "execution_count": 210,
   "metadata": {},
   "outputs": [],
   "source": [
    "xvals = range(21)"
   ]
  },
  {
   "cell_type": "markdown",
   "metadata": {},
   "source": [
    "(you can learn what ``range()`` does by viewing its result as a ``list``). E.g.:"
   ]
  },
  {
   "cell_type": "code",
   "execution_count": 211,
   "metadata": {},
   "outputs": [
    {
     "data": {
      "text/plain": [
       "[0, 1, 2, 3, 4, 5, 6, 7, 8, 9, 10, 11, 12, 13, 14, 15, 16, 17, 18, 19, 20]"
      ]
     },
     "execution_count": 211,
     "metadata": {},
     "output_type": "execute_result"
    }
   ],
   "source": [
    "list(xvals)"
   ]
  },
  {
   "cell_type": "markdown",
   "metadata": {},
   "source": [
    "Notice that we had to ask `range()` for 21 values because that is actually the number of integers from 0 to 20.  By default `range()` starts at 0 (not 1), but you can override that; see the Python docs.\n",
    "\n",
    "Now we compute the list of probability values for each of these\n",
    "x values:"
   ]
  },
  {
   "cell_type": "code",
   "execution_count": 212,
   "metadata": {},
   "outputs": [],
   "source": [
    "pvals = [model.pmf(x) for x in xvals]"
   ]
  },
  {
   "cell_type": "markdown",
   "metadata": {},
   "source": [
    "We can immediately graph this using a simple line plot:"
   ]
  },
  {
   "cell_type": "code",
   "execution_count": 213,
   "metadata": {},
   "outputs": [
    {
     "name": "stdout",
     "output_type": "stream",
     "text": [
      "[(0, 4.5399929762484854e-05), (1, 0.0004539992976248486), (2, 0.0022699964881242435), (3, 0.007566654960414144), (4, 0.01891663740103538), (5, 0.03783327480207079), (6, 0.06305545800345125), (7, 0.090079225719216), (8, 0.11259903214902009), (9, 0.12511003572113372), (10, 0.12511003572113372), (11, 0.11373639611012128), (12, 0.09478033009176803), (13, 0.07290794622443707), (14, 0.05207710444602615), (15, 0.034718069630684245), (16, 0.021698793519177594), (17, 0.012763996187751505), (18, 0.007091108993195334), (19, 0.003732162627997529), (20, 0.0018660813139987742)]\n"
     ]
    },
    {
     "data": {
      "image/png": "[encoded data removed]",
      "text/plain": [
       "<Figure size 432x288 with 1 Axes>"
      ]
     },
     "metadata": {
      "needs_background": "light"
     },
     "output_type": "display_data"
    }
   ],
   "source": [
    "pyplot.plot(xvals, pvals)\n",
    "print(list(zip(xvals, pvals)))"
   ]
  },
  {
   "cell_type": "markdown",
   "metadata": {},
   "source": [
    "Note that you can superimpose multiple plots on one figure by simply\n",
    "running another ``plot()`` command for each dataset you want to plot\n",
    "on that figure.\n",
    "\n",
    "**QUESTION**: What is the most likely number of mutations (i.e. value of *k* with the highest probability)?\n",
    "\n",
    "**ANSWER**: The likely number of mutations, i.e. the value of *k* with the highest probability is approximately 10."
   ]
  },
  {
   "cell_type": "markdown",
   "metadata": {},
   "source": [
    "Graphing the Cumulative Distribution Function\n",
    "=========================================\n",
    "\n",
    "The so-called *cumulative distribution function*, or CDF, computes\n",
    "the total probability of getting *k* or fewer mutations.  I.e. \n",
    "``model.cdf(k)=`` $p(0 \\le K \\le k|\\mu=10)$.  \n",
    "\n",
    "**QUESTION**: Adapt the previous ``pvals`` example\n",
    "code (to use the `cdf()` function instead of the `pmf()` function), to get Python to plot the CDF in the following code cell:\n",
    "\n",
    "**ANSWER**: Code snippet below."
   ]
  },
  {
   "cell_type": "code",
   "execution_count": 214,
   "metadata": {},
   "outputs": [
    {
     "name": "stdout",
     "output_type": "stream",
     "text": [
      "[(0, 4.539992976248486e-05), (1, 0.0004993992273873336), (2, 0.0027693957155115775), (3, 0.010336050675925726), (4, 0.029252688076961124), (5, 0.06708596287903189), (6, 0.130141420882483), (7, 0.22022064660169907), (8, 0.3328196787507191), (9, 0.4579297144718523), (10, 0.5830397501929852), (11, 0.6967761463031061), (12, 0.7915564763948745), (13, 0.8644644226193109), (14, 0.9165415270653372), (15, 0.9512595966960213), (16, 0.9729583902151989), (17, 0.9857223864029503), (18, 0.9928134953961456), (19, 0.9965456580241432), (20, 0.998411739338142)]\n"
     ]
    },
    {
     "data": {
      "image/png": "[encoded data removed]",
      "text/plain": [
       "<Figure size 432x288 with 1 Axes>"
      ]
     },
     "metadata": {
      "needs_background": "light"
     },
     "output_type": "display_data"
    }
   ],
   "source": [
    "pvals = [model.cdf(x) for x in xvals]\n",
    "pyplot.plot(xvals, pvals)\n",
    "print(list(zip(xvals,pvals)))"
   ]
  },
  {
   "cell_type": "markdown",
   "metadata": {},
   "source": [
    "**QUESTION**: If you wanted to choose a value of *k* such that in 90% of mutagenesis\n",
    "experiments the actual number of mutations would be *k* or fewer, what\n",
    "value of *k* would you choose?\n",
    "\n",
    "**ANSWER**: If I wanted to choose a value of *k* such that in 90% of mutagenesis experiments, the actual number of mutations would be *k* or fewer, I'd choose approximately 14."
   ]
  },
  {
   "cell_type": "markdown",
   "metadata": {},
   "source": [
    "Graphing the Survival Function\n",
    "======================================\n",
    "\n",
    "The so-called *survival function*, or SF, computes\n",
    "the total probability of getting more than *k* mutations.  I.e. \n",
    "``model.sf(k) =`` $p(K > k|\\mu=10)$.  \n",
    "\n",
    "**QUESTION**: Adapt the previous ``pvals`` example\n",
    "code (to use the `sf()` function), to get Python to plot the survival function in the following code cell:\n",
    "\n",
    "**ANSWER**: Code snippet below."
   ]
  },
  {
   "cell_type": "code",
   "execution_count": 215,
   "metadata": {},
   "outputs": [
    {
     "name": "stdout",
     "output_type": "stream",
     "text": [
      "[(0, 0.9999546000702375), (1, 0.9995006007726127), (2, 0.9972306042844884), (3, 0.9896639493240743), (4, 0.9707473119230389), (5, 0.9329140371209681), (6, 0.869858579117517), (7, 0.779779353398301), (8, 0.6671803212492808), (9, 0.5420702855281478), (10, 0.41696024980701485), (11, 0.3032238536968938), (12, 0.20844352360512552), (13, 0.13553557738068908), (14, 0.08345847293466284), (15, 0.04874040330397868), (16, 0.027041609784801086), (17, 0.014277613597049663), (18, 0.007186504603854357), (19, 0.0034543419758568334), (20, 0.0015882606618580573)]\n"
     ]
    },
    {
     "data": {
      "image/png": "[encoded data removed]",
      "text/plain": [
       "<Figure size 432x288 with 1 Axes>"
      ]
     },
     "metadata": {
      "needs_background": "light"
     },
     "output_type": "display_data"
    }
   ],
   "source": [
    "pvals = [model.sf(x) for x in xvals]\n",
    "pyplot.plot(xvals, pvals)\n",
    "print(list(zip(xvals,pvals)))"
   ]
  },
  {
   "cell_type": "markdown",
   "metadata": {},
   "source": [
    "**QUESTION**: If you wanted to choose a value of *k* such that in 90% of mutagenesis\n",
    "experiments the actual number of mutations would be greater than *k*, what\n",
    "value of *k* would you choose?\n",
    "\n",
    "**ANSWER**: If I wanted to choose a value of *k* such that in 90% of mutagenesis experiments, the actual number of mutations would be greater than *k*, I'd choose approximately 5."
   ]
  },
  {
   "cell_type": "markdown",
   "metadata": {},
   "source": [
    "An Example Mutagenesis Experiment Case\n",
    "========================================\n",
    "\n",
    "In a typical phenotype sequencing experiment for bacteria, we might\n",
    "sequence 30 mutant genomes, with 50 mutations per genome, and 4200 genes\n",
    "per genome.\n",
    "\n",
    "**QUESTION**: What do you expect to be the average total number of mutations found per gene in this experiment design?\n",
    "\n",
    "**ANSWER**: I'd expect the average total number of mutations found per genes to be (30*50)/4200 = 1500/4200.\n",
    "\n",
    "**QUESTION**: Based on that value of $\\mu$, plot the probability that a given gene will have more than *k* mutations\n",
    "in this experiment design, over the range $0 \\le k \\le 10$.\n",
    "\n",
    "**ANSWER**: Code snippet below."
   ]
  },
  {
   "cell_type": "code",
   "execution_count": 216,
   "metadata": {},
   "outputs": [
    {
     "name": "stdout",
     "output_type": "stream",
     "text": [
      "μ: 0.35714285714285715\n"
     ]
    },
    {
     "data": {
      "text/plain": [
       "[<matplotlib.lines.Line2D at 0x7f9bc7e09978>]"
      ]
     },
     "execution_count": 216,
     "metadata": {},
     "output_type": "execute_result"
    },
    {
     "data": {
      "image/png": "[encoded data removed]",
      "text/plain": [
       "<Figure size 432x288 with 1 Axes>"
      ]
     },
     "metadata": {
      "needs_background": "light"
     },
     "output_type": "display_data"
    }
   ],
   "source": [
    "mu = 1500/4200\n",
    "print('μ:', mu)\n",
    "model = scipy.stats.poisson(mu)\n",
    "xvals = range(11)\n",
    "pvals = [model.sf(x) for x in xvals]\n",
    "pyplot.plot(xvals, pvals)"
   ]
  },
  {
   "cell_type": "markdown",
   "metadata": {},
   "source": [
    "**QUESTION**: How exactly would you adapt your code to calculate the probability that a gene will have *k or more* mutations (which is what we actually need for our Phenotype Sequencing p-value)?  Note this is slightly different from *more than k* mutations!\n",
    "\n",
    "**ANSWER**: To calculate the probability that a gene will have *k or more* mutations, I'd take the survival function, which gives the probability of finding more than k mutations, and add it to the probability mass function, which gives the probability of finding exactly k mutations."
   ]
  },
  {
   "cell_type": "markdown",
   "metadata": {},
   "source": [
    "A colleague planning a phenotype sequencing experiment says \"Under this\n",
    "design, it's unlikely to get a gene with 3 or more mutations\n",
    "under this non-target gene model, so we\n",
    "can use that criterion as a reliable way of picking out genes that\n",
    "cause the phenotype (i.e. target genes).\"\n",
    "\n",
    "**QUESTION**: Plot the total number of genes expected to have *k* or more mutations\n",
    "in this experiment design, over the range $0 \\le k \\le 10$.\n",
    "Based on this graph, comment on the reliability of your colleague's criterion.\n",
    "\n",
    "**ANSWER**: Code snippet below. I would say that my colleague's criterion is relatively reliable, as approximately only ~27 genes out of 4200 genes have 3 or more mutations. "
   ]
  },
  {
   "cell_type": "code",
   "execution_count": 217,
   "metadata": {},
   "outputs": [
    {
     "name": "stdout",
     "output_type": "stream",
     "text": [
      "26.758120012847375\n"
     ]
    },
    {
     "data": {
      "text/plain": [
       "[<matplotlib.lines.Line2D at 0x7f9bc7d6b6a0>]"
      ]
     },
     "execution_count": 217,
     "metadata": {},
     "output_type": "execute_result"
    },
    {
     "data": {
      "image/png": "[encoded data removed]",
      "text/plain": [
       "<Figure size 432x288 with 1 Axes>"
      ]
     },
     "metadata": {
      "needs_background": "light"
     },
     "output_type": "display_data"
    }
   ],
   "source": [
    "gvals = [4200*(model.pmf(x) + model.sf(x)) for x in xvals]\n",
    "print(sum(gvals[3:]))\n",
    "pyplot.plot(xvals, gvals)"
   ]
  },
  {
   "cell_type": "markdown",
   "metadata": {},
   "source": [
    "Using JSON to load the Phenotype Sequencing Data\n",
    "======================\n",
    "\n",
    "JSON is a simple data format that is convenient for storing numbers, strings, lists and dictionaries, with the added benefit that it's easily \"human-readable\".  Python provides a library for working with JSON data easily.  Here's a simple example showing what JSON format actually looks like, and how to load JSON data from any text input:"
   ]
  },
  {
   "cell_type": "code",
   "execution_count": 218,
   "metadata": {},
   "outputs": [
    {
     "data": {
      "text/plain": [
       "'[0.6996725373751304, 0.24988304906254655, 0.04462197304688331, 0.005312139648438497, 0.0004742981828962938]'"
      ]
     },
     "execution_count": 218,
     "metadata": {},
     "output_type": "execute_result"
    }
   ],
   "source": [
    "import json\n",
    "json.dumps([model.pmf(x) for x in range(5)]) # dump this list to a string in JSON format, and just display it"
   ]
  },
  {
   "cell_type": "code",
   "execution_count": 219,
   "metadata": {},
   "outputs": [
    {
     "data": {
      "text/plain": [
       "('foo', 1.0)"
      ]
     },
     "execution_count": 219,
     "metadata": {},
     "output_type": "execute_result"
    }
   ],
   "source": [
    "data = json.loads('[\"foo\", {\"bar\":[\"baz\", null, 1.0, 2]}]') # load data from a string in JSON format\n",
    "data[0], data[1]['bar'][2] # display some of that data"
   ]
  },
  {
   "cell_type": "markdown",
   "metadata": {},
   "source": [
    "### Reading a JSON dataset from a file\n",
    "\n",
    "Large datasets are usually stored as files.  In Python we must first `open()` the file for reading, then use the appropriate reader function for reading that specific format.  Here's how we read a phenotype sequencing dataset from JSON:\n",
    "\n",
    "- `open()` takes the path to the file (as a string).  In this case our file `phenoseq.json` is here in the directory we're working in.  If it were somewhere else we'd have to specify its full path e.g. `/home/user/Documents/experiment1/phenoseq.json`.\n",
    "- Many operations (like `open()`) create temporary data that needs to be cleaned up properly when we're finally done with it.  Python's `with` statement makes this clean-up automatic and guaranteed: you simply indent whatever code you need to run on that temporary data (in this case, the `ifile` handle for reading the open file).  When Python completes that indented block it will automatically perform the necessary clean-up for you.\n",
    "- `json.load()` actually reads the data from the file.\n",
    "- we inspect the dataset using Python's `type()` function, which returns the Python **class** of the specified object -- intuitively \"what it is\".\n",
    "- Python's `len()` function tells you the length of (number of items in) any container.\n",
    "- this dataset is a Python dictionary whose entries are E. coli gene names each associated with the list of mutations found in that gene (genes with no mutations are not reported in this dataset).\n",
    "- each mutation is stored as a dictionary with various attributes, e.g. `pos` is the position of the mutation in the E. coli genome; `ref` is the original nucleotide at that position in the \"reference genome\"; `alt` is the mutated nucleotide that was observed at that position, etc."
   ]
  },
  {
   "cell_type": "code",
   "execution_count": 220,
   "metadata": {},
   "outputs": [
    {
     "name": "stdout",
     "output_type": "stream",
     "text": [
      "geneSNPs is a <class 'dict'> with 1728 entries.\n"
     ]
    },
    {
     "data": {
      "text/plain": [
       "[{'alt': 'T', 'nalt': 33, 'ref': 'C', 'pos': 23028, 'nreads': 141},\n",
       " {'alt': 'A', 'nalt': 40, 'ref': 'G', 'pos': 22430, 'nreads': 136}]"
      ]
     },
     "execution_count": 220,
     "metadata": {},
     "output_type": "execute_result"
    }
   ],
   "source": [
    "with open('phenoseq.json') as ifile:\n",
    "    geneSNPs = json.load(ifile)\n",
    "print('geneSNPs is a %s with %d entries.' % (type(geneSNPs), len(geneSNPs))) # %s prints arg as a string, %d as an integer\n",
    "geneSNPs['ileS'] # display the mutations found in E. coli gene ileS"
   ]
  },
  {
   "cell_type": "markdown",
   "metadata": {},
   "source": [
    "### Counting the mutations in each gene\n",
    "\n",
    "For phenotype sequencing the \"score\" for each gene that we will use to calculate its p-value is simply the count of mutations in that gene.  The following code shows you how to build a dictionary of gene mutation-counts and then extract different aspects of it in ways that you will use in subsequent steps:\n",
    "\n",
    "- Note that Python provides a convenient \"slice notation\" `l[start:stop]` to get a segment of a list `l` beginning at item `l[start]` and ending at item `l[stop - 1]` (in other words, item `l[stop]` will NOT be included).  Note also that you can leave out either `start` or `stop`, e.g. `l[:10]` gets a list of the first 10 items in the list, exactly the same as if you had specified `l[0:10]`."
   ]
  },
  {
   "cell_type": "code",
   "execution_count": 221,
   "metadata": {},
   "outputs": [
    {
     "name": "stdout",
     "output_type": "stream",
     "text": [
      "ileS contains 2 mutations\n",
      "first ten genes: ['rhtB', 'speF', 'speG', 'xseB', 'speA', 'ybcM', 'ybcO', 'ybcJ', 'ybcK', 'ybcF']\n",
      "first ten mutation counts: [1, 2, 1, 3, 2, 3, 2, 3, 1, 1]\n",
      "sorted in ascending order: [1, 1, 1, 1, 2, 2, 2, 3, 3, 3]\n",
      "tuples sorted in ascending order: [(1, 'rhtB'), (1, 'speG'), (1, 'ybcF'), (1, 'ybcK'), (2, 'speA'), (2, 'speF'), (2, 'ybcO'), (3, 'xseB'), (3, 'ybcJ'), (3, 'ybcM')]\n"
     ]
    }
   ],
   "source": [
    "snpCounts = {}\n",
    "for gene, snps in geneSNPs.items():\n",
    "    snpCounts[gene] = len(snps)\n",
    "print('ileS contains %d mutations' % snpCounts['ileS'])\n",
    "print('first ten genes:', list(snpCounts)[:10]) # iterating over the dict just gets its gene names\n",
    "first10 = list(snpCounts.values())[:10] # values() gets the mutation counts\n",
    "print('first ten mutation counts:', first10)\n",
    "first10.sort() # this re-orders the list in ascending order\n",
    "print('sorted in ascending order:', first10)\n",
    "first10 = [(t[1],t[0]) for t in snpCounts.items()][:10] # a list of (count,gene) tuples, note we swap the 2 values \n",
    "first10.sort() # the first value in each tuple (count) will drive the sort\n",
    "print('tuples sorted in ascending order:', first10)"
   ]
  },
  {
   "cell_type": "markdown",
   "metadata": {},
   "source": [
    "### Constructing a simplistic Phenoseq p-value test\n",
    "\n",
    "We will construct a single non-target gene model for all genes in E. coli, assuming that the probability of random mutation is the same in each gene.  This is like assuming all genes are \"the same size\" (which is not actually true).\n",
    "\n",
    "**QUESTION**: assuming that E. coli has 4200 total genes, write code that sums the total number of mutations in this dataset, computes the average number of mutations per gene $\\mu$, prints it, and constructs a Poisson model for non-target genes using this $\\mu$ value.\n",
    "\n",
    "**ANSWER**: Code snippet below."
   ]
  },
  {
   "cell_type": "code",
   "execution_count": 225,
   "metadata": {},
   "outputs": [
    {
     "name": "stdout",
     "output_type": "stream",
     "text": [
      "μ: 0.7871428571428571\n"
     ]
    }
   ],
   "source": [
    "total = sum(snpCounts.values())\n",
    "mu = total/4200\n",
    "print('μ:', mu)\n",
    "model = scipy.stats.poisson(mu)"
   ]
  },
  {
   "cell_type": "markdown",
   "metadata": {},
   "source": [
    "### Scoring the Isobutanol Tolerance dataset using our p-value test\n",
    "\n",
    "**QUESTION**: write code to calculate p-values for every gene in the dataset, then sort it and print the top ten (most statistically significant) genes.  Hint: make a list of (pval,gene) tuples, so you can sort by pval but still see the gene names with the best p-values.\n",
    "\n",
    "**ANSWER**: Code snippet below."
   ]
  },
  {
   "cell_type": "code",
   "execution_count": 223,
   "metadata": {},
   "outputs": [
    {
     "name": "stdout",
     "output_type": "stream",
     "text": [
      "1. Gene acrB (p-value: 5.113281115030872e-35)\n",
      "2. Gene ydfJ (p-value: 2.2875066691590834e-17)\n",
      "3. Gene entF (p-value: 5.720755599697114e-11)\n",
      "4. Gene cusA (p-value: 8.767692092457328e-10)\n",
      "5. Gene nfrA (p-value: 8.767692092457328e-10)\n",
      "6. Gene prpE (p-value: 8.767692092457328e-10)\n",
      "7. Gene rhsD (p-value: 1.2329808646660377e-08)\n",
      "8. Gene aes (p-value: 1.5783121710746368e-07)\n",
      "9. Gene fepA (p-value: 1.5783121710746368e-07)\n",
      "10. Gene mdlB (p-value: 1.5783121710746368e-07)\n"
     ]
    }
   ],
   "source": [
    "pvals = [model.pmf(x)+model.sf(x) for x in snpCounts.values()]\n",
    "pvals = list(zip(pvals, snpCounts.keys()))\n",
    "pvals.sort()\n",
    "for i in range(10):\n",
    "    print('{}. Gene {} (p-value: {})'.format(i+1, pvals[i][1], pvals[i][0]) )"
   ]
  },
  {
   "cell_type": "markdown",
   "metadata": {},
   "source": [
    "### Applying the Bonferroni correction\n",
    "\n",
    "Let's apply the Bonferroni correction to choose a p-value cutoff that will yield only one expected false positive among the 4200 genes in E. coli.\n",
    "\n",
    "**QUESTION**: write code to calculate the appropriate `fcut` value, and print the list of (pval,gene) that pass this p-value test.  Hint: you can simply print an increasing number of entries from your sorted list, until the p-value exceeds your `fcut`.\n",
    "\n",
    "**ANSWER**: Code snippet below."
   ]
  },
  {
   "cell_type": "code",
   "execution_count": 200,
   "metadata": {},
   "outputs": [
    {
     "name": "stdout",
     "output_type": "stream",
     "text": [
      "fcut: 0.0002380952380952381\n",
      "1. (5.113281115030872e-35, 'acrB')\n",
      "2. (2.2875066691590834e-17, 'ydfJ')\n",
      "3. (5.720755599697114e-11, 'entF')\n",
      "4. (8.767692092457328e-10, 'cusA')\n",
      "5. (8.767692092457328e-10, 'nfrA')\n",
      "6. (8.767692092457328e-10, 'prpE')\n",
      "7. (1.2329808646660377e-08, 'rhsD')\n",
      "8. (1.5783121710746368e-07, 'aes')\n",
      "9. (1.5783121710746368e-07, 'fepA')\n",
      "10. (1.5783121710746368e-07, 'mdlB')\n",
      "11. (1.5783121710746368e-07, 'sbcC')\n",
      "12. (1.8214589363507663e-06, 'marC')\n",
      "13. (1.8214589363507663e-06, 'paoC')\n",
      "14. (1.8214589363507663e-06, 'ybaE')\n",
      "15. (1.8214589363507663e-06, 'ybaL')\n",
      "16. (1.8214589363507663e-06, 'ykgC')\n",
      "17. (1.8214589363507663e-06, 'yneO')\n",
      "18. (1.8729472053887065e-05, 'allB')\n",
      "19. (1.8729472053887065e-05, 'bcsC')\n",
      "20. (1.8729472053887065e-05, 'fdnG')\n",
      "21. (1.8729472053887065e-05, 'fhlA')\n",
      "22. (1.8729472053887065e-05, 'gsk')\n",
      "23. (1.8729472053887065e-05, 'ispA')\n",
      "24. (1.8729472053887065e-05, 'kefA')\n",
      "25. (1.8729472053887065e-05, 'lhr')\n",
      "26. (1.8729472053887065e-05, 'mdtB')\n",
      "27. (1.8729472053887065e-05, 'mhpA')\n",
      "28. (1.8729472053887065e-05, 'mltF')\n",
      "29. (1.8729472053887065e-05, 'yagX')\n",
      "30. (1.8729472053887065e-05, 'yegQ')\n",
      "31. (0.00016909111320802118, 'bcsG')\n",
      "32. (0.00016909111320802118, 'citT')\n",
      "33. (0.00016909111320802118, 'htpG')\n",
      "34. (0.00016909111320802118, 'ilvB')\n",
      "35. (0.00016909111320802118, 'kdpD')\n",
      "36. (0.00016909111320802118, 'lfhA')\n",
      "37. (0.00016909111320802118, 'lon')\n",
      "38. (0.00016909111320802118, 'lysR')\n",
      "39. (0.00016909111320802118, 'narG')\n",
      "40. (0.00016909111320802118, 'nfrB')\n",
      "41. (0.00016909111320802118, 'prpR')\n",
      "42. (0.00016909111320802118, 'pstA')\n",
      "43. (0.00016909111320802118, 'purK')\n",
      "44. (0.00016909111320802118, 'sfmD')\n",
      "45. (0.00016909111320802118, 'sfmH')\n",
      "46. (0.00016909111320802118, 'uvrD')\n",
      "47. (0.00016909111320802118, 'xanQ')\n",
      "48. (0.00016909111320802118, 'yagW')\n",
      "49. (0.00016909111320802118, 'yahB')\n",
      "50. (0.00016909111320802118, 'yaiT')\n",
      "51. (0.00016909111320802118, 'yceH')\n",
      "52. (0.00016909111320802118, 'yddW')\n",
      "53. (0.00016909111320802118, 'yihA')\n"
     ]
    }
   ],
   "source": [
    "passed = []\n",
    "fcut = 1/4200\n",
    "print('fcut:', fcut)\n",
    "for p in pvals:\n",
    "    if p[0] <= fcut:\n",
    "        passed.append((p[0], p[1]))\n",
    "    else:\n",
    "        break\n",
    "for i in range(len(passed)):\n",
    "    print('{}.'.format(i+1), passed[i])"
   ]
  }
 ],
 "metadata": {
  "kernelspec": {
   "display_name": "Python 3",
   "language": "python",
   "name": "python3"
  },
  "language_info": {
   "codemirror_mode": {
    "name": "ipython",
    "version": 3
   },
   "file_extension": ".py",
   "mimetype": "text/x-python",
   "name": "python",
   "nbconvert_exporter": "python",
   "pygments_lexer": "ipython3",
   "version": "3.7.1"
  }
 },
 "nbformat": 4,
 "nbformat_minor": 2
}
